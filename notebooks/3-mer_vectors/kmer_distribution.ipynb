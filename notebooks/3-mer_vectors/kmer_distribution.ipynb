{
 "cells": [
  {
   "cell_type": "markdown",
   "metadata": {},
   "source": [
    "# Model k-mers \n",
    "\n",
    "Code to investigate the kmers in the Swiss-Prot, Bacillus and Bacteroides trained Protvec models. Determine what properties determine how Protvec works. "
   ]
  },
  {
   "cell_type": "code",
   "execution_count": null,
   "metadata": {},
   "outputs": [],
   "source": [
    "#imports \n",
    "import pandas as pd\n",
    "import numpy as np \n",
    "import pickle\n",
    "from sklearn.decomposition import PCA\n",
    "from sklearn.preprocessing import StandardScaler\n",
    "from matplotlib import pyplot as plt\n",
    "from sklearn.metrics.pairwise import euclidean_distances\n",
    "import seaborn as sns"
   ]
  },
  {
   "cell_type": "markdown",
   "metadata": {},
   "source": [
    "### PCA of each of the 3-mer vectors in each of the models "
   ]
  },
  {
   "cell_type": "code",
   "execution_count": null,
   "metadata": {},
   "outputs": [],
   "source": [
    "#import the kmers from the models \n",
    "#kmers from the orginal Protvec model trained with Swissprot \n",
    "swissprot_vec = pd.read_csv('../100d_models/protVec_100d_3grams.csv', sep='\\t', index_col = 0)\n",
    "swissprot_kmers = swissprot_vec.index.values\n",
    "\n",
    "#get kmers from the Protvec model trained with sequences involved in Bacteriodes carbohydrate metabolism \n",
    "bacter_vec = pickle.load(open('../100d_models/bacteroides_3mervectors.pkl', 'rb'))\n",
    "bacter_kmers = list(list(bacter_vec.keys()))\n",
    "bacter_vec = np.stack([bacter_vec.get(kmer) for kmer in bacter_kmers], axis = 0)\n",
    "\n",
    "#get kmers from the Protvec model trained with sequences involved in Bacillus carbohydrate metabolism \n",
    "bacil_vec = pickle.load(open('../100d_models/bacillus_3mervectors.pkl', 'rb'))\n",
    "bacil_kmers = list(list(bacil_vec.keys()))\n",
    "bacil_vec = np.stack([bacil_vec.get(kmer) for kmer in bacil_kmers], axis = 0)\n"
   ]
  }
 ],
 "metadata": {
  "kernelspec": {
   "display_name": "Python 3",
   "language": "python",
   "name": "python3"
  },
  "language_info": {
   "codemirror_mode": {
    "name": "ipython",
    "version": 3
   },
   "file_extension": ".py",
   "mimetype": "text/x-python",
   "name": "python",
   "nbconvert_exporter": "python",
   "pygments_lexer": "ipython3",
   "version": "3.8.3"
  }
 },
 "nbformat": 4,
 "nbformat_minor": 4
}
